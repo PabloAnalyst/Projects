{
 "cells": [
  {
   "cell_type": "markdown",
   "id": "de378c40",
   "metadata": {},
   "source": [
    "# Descriptive analysis, ABCD Bank\n",
    "### Partial Code"
   ]
  },
  {
   "cell_type": "code",
   "execution_count": null,
   "id": "67904797",
   "metadata": {},
   "outputs": [],
   "source": [
    "import pandas as pd\n",
    "import matplotlib.pyplot as plt\n",
    "import seaborn as sns\n",
    "import os\n",
    "import numpy as np\n",
    "import itertools\n",
    "import scipy.stats\n",
    "from scipy.stats import chi2_contingency\n",
    "\n",
    "path = r\"C:\\database.txt\"\n",
    "df = pd.read_csv(path, sep='§', engine='python')"
   ]
  },
  {
   "cell_type": "code",
   "execution_count": null,
   "id": "13b41a53",
   "metadata": {},
   "outputs": [],
   "source": [
    "#Relevant columns are selected\n",
    "relevant_columns = [\n",
    " 'C1', 'C2', 'C3', 'C4', 'C5', 'C6', 'C7', 'C8', 'C9', 'C10',\n",
    "'C11', 'C12', 'C13', 'C14', 'C15', 'C16', 'C17', 'C18', 'C19', 'C20',\n",
    "'C21', 'C22', 'C23', 'C24', 'C25', 'C26', 'C27', 'C28', 'C29', 'C30',\n",
    "'C31', 'C32', 'C33', 'C34', 'C35', 'C36', 'C37', 'C38', 'C39', 'C40'\n",
    "]\n",
    "df = df[relevant_columns]"
   ]
  },
  {
   "cell_type": "code",
   "execution_count": null,
   "id": "9adc376d",
   "metadata": {},
   "outputs": [],
   "source": [
    "# Missing value analysis\n",
    "sns.heatmap(df.isnull(), yticklabels=False, cbar=False, cmap = \"Blues\")\n",
    "missing_values = df.isnull()\n",
    "missing_values_count = df.isnull().sum()\n",
    "missing_values_percentage = (df.isnull().sum() / len(df)) * 100\n",
    "print(\"Missing values per column:\")\n",
    "print(missing_values_count)\n",
    "print(\"\\%Missing values ​​per column::\")\n",
    "print(missing_values_percentage)"
   ]
  },
  {
   "cell_type": "code",
   "execution_count": null,
   "id": "d9656793",
   "metadata": {},
   "outputs": [],
   "source": [
    "#Convert value type of variables\n",
    "columns_to_convert = ['C21', 'C22', 'C23', 'C24', 'C25', 'C26']\n",
    "for column in columns_to_convert:\n",
    "    df[column] = df[column].str.replace(',', '').astype(float)"
   ]
  },
  {
   "cell_type": "code",
   "execution_count": null,
   "id": "f4fd58f1",
   "metadata": {},
   "outputs": [],
   "source": [
    "#Frequency analysis\n",
    "df.hist(bins=7,figsize=(20,15))"
   ]
  },
  {
   "cell_type": "code",
   "execution_count": null,
   "id": "8ed77f7c",
   "metadata": {},
   "outputs": [],
   "source": [
    "# Box and whisker plots depicting highlighted variables, with identification of outliers.\n",
    "filtered_df = df[df['C1'].isin(['C4', 'C7','C6'])]\n",
    "plt.figure(figsize=(8, 3)) \n",
    "filtered_df.boxplot(by='C1', column=['C3'], grid=False)\n",
    "plt.title('C4')\n",
    "plt.xlabel('C1')\n",
    "plt.ylabel('C6')\n",
    "plt.xticks(rotation=45)\n",
    "plt.tight_layout()\n",
    "plt.show()\n"
   ]
  },
  {
   "cell_type": "code",
   "execution_count": null,
   "id": "36b17381",
   "metadata": {},
   "outputs": [],
   "source": [
    "#Correlation between variables\n",
    "Variables=['C32', 'C33', 'C34', 'C35', 'C36', 'C37', 'C38', 'C39', 'C40']\n",
    "Data_variables=df[Variables]\n",
    "correlations = Data_variables.corr()\n",
    "f, ax = plt.subplots(figsize = (20,20))\n",
    "sns.heatmap(correlations, annot=True)"
   ]
  },
  {
   "cell_type": "code",
   "execution_count": null,
   "id": "5eb2243a",
   "metadata": {},
   "outputs": [],
   "source": [
    "#Spearman correlation coefficient between variables\n",
    "spearman_corr_2, _ = scipy.stats.spearmanr(df.valor_cuota, df.intc_pagar)\n",
    "print(f\"Spearman correlation C1 VS C2: {spearman_corr_2}\")\n",
    "print(f\"Spearman correlation C5 VS C7:: {spearman_corr_3}\")\n",
    "spearman_corr_4, _ = scipy.stats.spearmanr(df.C1, df.C2)"
   ]
  },
  {
   "cell_type": "code",
   "execution_count": null,
   "id": "1d4e6230",
   "metadata": {},
   "outputs": [],
   "source": [
    "#Chi-square statistic,P-value,Cramer's V statistic\n",
    "variable1 = df['C23']\n",
    "variable2 = df['C24']\n",
    "\n",
    "table = pd.crosstab(variable1, variable2)\n",
    "\n",
    "chi2, p_value, _, _ = chi2_contingency(table)\n",
    "\n",
    "\n",
    "n = table.sum().sum()\n",
    "k = table.shape[1]\n",
    "r = table.shape[0]\n",
    "v_cramer = np.sqrt(chi2 / (n * min(k-1, r-1)))\n",
    "\n",
    "print(f\"Chi-square statistics: {chi2}\")\n",
    "print(f\"P-value: {p_value}\")\n",
    "print(f\"Cramer's V statistic: {v_cramer}\")"
   ]
  }
 ],
 "metadata": {
  "kernelspec": {
   "display_name": "Python 3 (ipykernel)",
   "language": "python",
   "name": "python3"
  },
  "language_info": {
   "codemirror_mode": {
    "name": "ipython",
    "version": 3
   },
   "file_extension": ".py",
   "mimetype": "text/x-python",
   "name": "python",
   "nbconvert_exporter": "python",
   "pygments_lexer": "ipython3",
   "version": "3.9.13"
  }
 },
 "nbformat": 4,
 "nbformat_minor": 5
}
