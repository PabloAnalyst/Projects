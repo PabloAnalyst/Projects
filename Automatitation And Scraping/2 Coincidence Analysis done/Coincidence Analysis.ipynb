{
 "cells": [
  {
   "cell_type": "code",
   "execution_count": 1,
   "metadata": {
    "executionInfo": {
     "elapsed": 4104,
     "status": "ok",
     "timestamp": 1715876246951,
     "user": {
      "displayName": "pablo andres arguello ardila",
      "userId": "11113699953796851862"
     },
     "user_tz": 300
    },
    "id": "q93xw2jY6p1k",
    "scrolled": true
   },
   "outputs": [],
   "source": [
    "import pandas as pd\n",
    "\n",
    "# Load Files\n",
    "df1 = pd.read_excel(r'C:\\df1.xlsx', dtype=str)\n",
    "df2 = pd.read_excel(r'C:\\df2.xlsx', dtype=str)\n",
    "df1 = df1.astype(str)\n",
    "df2 = df2.astype(str)\n"
   ]
  },
  {
   "cell_type": "code",
   "execution_count": null,
   "metadata": {
    "colab": {
     "base_uri": "https://localhost:8080/",
     "height": 273
    },
    "executionInfo": {
     "elapsed": 972,
     "status": "ok",
     "timestamp": 1707773674054,
     "user": {
      "displayName": "pablo andres arguello ardila",
      "userId": "11113699953796851862"
     },
     "user_tz": 300
    },
    "id": "bMDYoCtT7FH_",
    "outputId": "11a20741-0465-4bbf-c93f-be2dac2f72e0"
   },
   "outputs": [],
   "source": [
    "# Coincidence Analysis\n",
    "\n",
    "def find_matches(row):\n",
    "    strategy = row['A']\n",
    "    license = row['B']\n",
    "    tf = row['C']\n",
    "    matches = df2[(df2['ABC'].str.contains(A)) &\n",
    "                  (df2['ABC'].str.contains(B)) &\n",
    "                  (df2['ABC'].str.contains(C))]['Result_ID'].tolist()\n",
    "    return ', '.join(matches)\n",
    "\n",
    "# Create a new column\n",
    "df1['Result_ID'] = df1.apply(find_matches, axis=1)\n",
    "\n",
    "#Download New df With Result_ID\n",
    "file_name = 'NEW_df.xlsx'\n",
    "df1.to_excel(file_name, index=False)\n",
    "files.download(file_name)\n",
    "\n"
   ]
  }
 ],
 "metadata": {
  "colab": {
   "authorship_tag": "ABX9TyMxF+k2tRiuRm47RtzuraHm",
   "mount_file_id": "1jSmuwyqlbXU03HhTEnc7t3caV-SvCrPO",
   "provenance": []
  },
  "kernelspec": {
   "display_name": "Python 3 (ipykernel)",
   "language": "python",
   "name": "python3"
  },
  "language_info": {
   "codemirror_mode": {
    "name": "ipython",
    "version": 3
   },
   "file_extension": ".py",
   "mimetype": "text/x-python",
   "name": "python",
   "nbconvert_exporter": "python",
   "pygments_lexer": "ipython3",
   "version": "3.11.5"
  }
 },
 "nbformat": 4,
 "nbformat_minor": 1
}
