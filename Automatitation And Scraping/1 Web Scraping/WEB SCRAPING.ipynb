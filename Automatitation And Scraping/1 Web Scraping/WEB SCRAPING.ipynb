{
 "cells": [
  {
   "cell_type": "code",
   "execution_count": 1,
   "id": "9062d6cb",
   "metadata": {},
   "outputs": [],
   "source": [
    "#Load necessary libraries for Analisis\n",
    "from selenium import webdriver\n",
    "from selenium.webdriver.common.keys import Keys\n",
    "from selenium.webdriver.edge.service import Service\n",
    "from selenium.webdriver.edge.options import Options\n",
    "import time\n",
    "from selenium import webdriver\n",
    "from selenium.webdriver.common.by import By\n",
    "from selenium.webdriver.support.ui import WebDriverWait\n",
    "from selenium.webdriver.support import expected_conditions as EC\n",
    "from selenium import webdriver\n",
    "from selenium.webdriver.common.by import By\n",
    "from selenium.webdriver.support.ui import WebDriverWait\n",
    "from selenium.webdriver.support import expected_conditions as EC\n",
    "from selenium.common.exceptions import TimeoutException\n",
    "from selenium import webdriver\n",
    "from bs4 import BeautifulSoup\n",
    "import pandas as pd"
   ]
  },
  {
   "cell_type": "code",
   "execution_count": 2,
   "id": "9aa171e7",
   "metadata": {},
   "outputs": [
    {
     "name": "stdout",
     "output_type": "stream",
     "text": [
      "      RAA\n",
      "0   18853\n",
      "1   18856\n",
      "2   18858\n",
      "3  128799\n",
      "4  119614\n"
     ]
    }
   ],
   "source": [
    "#Load the necessary data framework to review or save information\n",
    "file_path = r'C:\\DB.xlsx'\n",
    "df = pd.read_excel(file_path)\n",
    "print(df.head())\n"
   ]
  },
  {
   "cell_type": "code",
   "execution_count": 4,
   "id": "ca17ea48",
   "metadata": {},
   "outputs": [],
   "source": [
    "# Driver ON EDGE\n",
    "driver = webdriver.Edge()\n",
    "driver.get(\"web.com\")\n",
    "current_window_handle = driver.current_window_handle\n",
    "driver.switch_to.window(current_window_handle)\n",
    "\n",
    "wait = WebDriverWait(driver, 10) \n",
    "\n",
    "# LOGIN\n",
    "username_input = wait.until(EC.presence_of_element_located((By.ID, \"username\")))\n",
    "username_input.send_keys(\"name1234\")\n",
    "password_input = wait.until(EC.presence_of_element_located((By.ID, \"password\")))\n",
    "password_input.send_keys(\"PASS02%&\")\n",
    "sign_in_button = wait.until(EC.presence_of_element_located((By.ID, \"signButton\")))\n",
    "sign_in_button.click()\n",
    "\n",
    "# CLICK BUTTONS\n",
    "link_element = wait.until(EC.element_to_be_clickable((By.XPATH, \"//a[text()='BUTTON1']\")))\n",
    "link_element.click()\n",
    "button_span = wait.until(EC.element_to_be_clickable((By.XPATH, \"//span[text()='BUTTON2']\")))\n",
    "button_span.click()"
   ]
  },
  {
   "cell_type": "code",
   "execution_count": null,
   "id": "44324cd5",
   "metadata": {},
   "outputs": [],
   "source": [
    "#LOOP TO SEARCH DATAFRAME INFORMATION ON THE WEB ENVIRONMENT \n",
    "#AND EXTRACT INFORMATION FROM A SPECIFIC TABLE\n",
    "\n",
    "for i in range(len(df)):\n",
    "    # Get the value of the DataFrame at position i\n",
    "    value = str(df.iloc[i, 0])\n",
    "    \n",
    "    driver.switch_to.window(current_window_handle)\n",
    "    \n",
    "    # Find the text box and get the current value\n",
    "    text_field = driver.find_element(By.CSS_SELECTOR, \".pwdigadet\")\n",
    "    text_field.clear()\n",
    "    text_field.send_keys(value)\n",
    "\n",
    "    # CLICK ON DIFFERENT LINKS, WITH WAITING TIMES\n",
    "    boton_search = driver.find_element(By.CSS_SELECTOR, \"selector1\")\n",
    "    boton_search.click()\n",
    "    wait.until(EC.presence_of_element_located((By.CSS_SELECTOR, \"selector2\"))\n",
    "    enlace = driver.find_element(By.CSS_SELECTOR, \"selector3\")\n",
    "    enlace.click()\n",
    "    \n",
    "    # EXTRACT PATH INFORMATION AND PRINT \n",
    "    texto_fila = driver.find_element(By.XPATH, '//*[@id=\"site\"]/didiv/div').text\n",
    "    print(\"INFO\", texto_fila)\n",
    "\n",
    "    # SAVE INFORMATION IN DATAFRAME\n",
    "    df.loc[i, \"Column1\"] = text_field\n",
    "\n",
    "    # RETURN TO HOME PAGE LOOP START\n",
    "    driver.close()\n",
    "    driver.switch_to.window(driver.window_handles[0])\n",
    "    wait.until(EC.presence_of_element_located((By.XPATH, '//*[@id=\"abcds\"]/')))\n",
    "    if i < len(df) - 1:\n",
    "        # Hacer clic en el segundo enlace\n",
    "        Link = wait.until(EC.element_to_be_clickable((By.XPATH, '//*[@id=\"sites2\"]/div/a')))\n",
    "        Link.click()"
   ]
  }
 ],
 "metadata": {
  "kernelspec": {
   "display_name": "Python 3 (ipykernel)",
   "language": "python",
   "name": "python3"
  },
  "language_info": {
   "codemirror_mode": {
    "name": "ipython",
    "version": 3
   },
   "file_extension": ".py",
   "mimetype": "text/x-python",
   "name": "python",
   "nbconvert_exporter": "python",
   "pygments_lexer": "ipython3",
   "version": "3.11.5"
  }
 },
 "nbformat": 4,
 "nbformat_minor": 5
}
